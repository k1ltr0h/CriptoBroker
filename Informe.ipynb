{
 "metadata": {
  "language_info": {
   "codemirror_mode": {
    "name": "ipython",
    "version": 3
   },
   "file_extension": ".py",
   "mimetype": "text/x-python",
   "name": "python",
   "nbconvert_exporter": "python",
   "pygments_lexer": "ipython3",
   "version": "3.8.3-final"
  },
  "orig_nbformat": 2,
  "kernelspec": {
   "name": "python3",
   "display_name": "Python 3",
   "language": "python"
  }
 },
 "nbformat": 4,
 "nbformat_minor": 2,
 "cells": [
  {
   "cell_type": "code",
   "execution_count": 5,
   "metadata": {},
   "outputs": [],
   "source": [
    "## Grupo ...____...\n",
    "#### Asignatura: TEL252-S2-2020\n",
    "#### Alumnos: Christian Fuentes 201530024-0 , Mario Araya 2015 201630003-1 , Sebastián Araneda 201530022-4 , Victor Cortés 201604140-0\n"
   ]
  },
  {
   "cell_type": "code",
   "execution_count": 6,
   "metadata": {},
   "outputs": [],
   "source": [
    "## El código desarrollado está dividido en 4 partes hasta ahora:\n",
    "##     1.-  Frontend\n",
    "##     2.-  DB\n",
    "##     3.-  Api\n",
    "##     4.-  Sensor"
   ]
  },
  {
   "cell_type": "code",
   "execution_count": null,
   "metadata": {},
   "outputs": [],
   "source": [
    "## 1.- En la parte del frontend lo que tenemos es una vista la cual va a mostrar la temperatura de los sensores de forma gráfica, \n",
    "## donde la gráfica es de temperatura versus tiempo, tomando la temperatura de un sensor y gráficándolo en un determinado intervalo\n",
    "## de tiempo."
   ]
  },
  {
   "cell_type": "code",
   "execution_count": null,
   "metadata": {},
   "outputs": [],
   "source": [
    "## 2.- En el caso de nuestra base de datos, esta se implementó para este caso de forma local, pero a futuro está la idea de hacerla \n",
    "## de forma remota, cosa de que esté siempre disponible para el sensor, nuestra base de datos está en mysql donde tenemos la tabla\n",
    "## \"sensores\" que contiene las variables \"id_sensor\" , \"timestamp\" y \"lectura\"."
   ]
  },
  {
   "cell_type": "code",
   "execution_count": null,
   "metadata": {},
   "outputs": [],
   "source": [
    "## 3.- Para nuestro caso de la api rest, esta vez usamos express con con nodejs para recibir las solicitudes de get y post que \n",
    "## van a llegar ya sea para pedir la temperatura de la base de datos o para ingresarla cuando el sensor entregue los datos para ser\n",
    "## guardados en la base de datos."
   ]
  },
  {
   "cell_type": "code",
   "execution_count": null,
   "metadata": {},
   "outputs": [],
   "source": [
    "## 4.- Para el caso de nuestro sensor, lo que tenemos es un archivo sensor.py que simula un sensor, mandando la temperatura \n",
    "## encriptada usando el algoritmo de \"AES\", para posteriormente ser enviada en una trama http que contiene un json de la forma \n",
    "## {\n",
    "##         \"id_sensor\": id_sensor,\n",
    "##         'lectura': data.decode(\"utf-8\")}\n",
    "## donde el \"id_sensor\" corresponde a un valor que diferencia un sensor de otro en caso de que tengamos más de uno, y la lectura\n",
    "## corresponde al valor de temperatura en nuestro caso que nos entrega el sensor. "
   ]
  },
  {
   "cell_type": "code",
   "execution_count": null,
   "metadata": {},
   "outputs": [],
   "source": [
    "## Proyección:\n",
    "## -Para el futuro desarrollo del proyecto lo que queremos hacer es dejar la base de datos conectada de forma remota, con el\n",
    "## objetivo de poder tenerla en cualquier momento y no tener un manejo de forma local, sino uno más cercano a lo que es la \n",
    "## realidad, además vamos a implementar una capa más de seguridad que corresponderá  al firewall, cosa de complicar la forma en\n",
    "## la que eve va a tratar de romper u obtener algún dato que sea de caracter sensible, otra cosa a implementar viene siendo\n",
    "## el micro kernel que va a alojar a nuestro sensor y por último mejorar nuestra forma de encriptar nuestros datos de \n",
    "## temperatura, esto último es algo que sigue en conversación, ya que se quiere elegir una forma tal que no sea facil de \n",
    "## romper ni tampoco que consuma tantos recursos, por tanto que sea eficiente."
   ]
  }
 ]
}